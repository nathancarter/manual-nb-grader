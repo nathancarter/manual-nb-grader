{
 "cells": [
  {
   "cell_type": "markdown",
   "metadata": {
    "id": "dG90gfv0hSCI"
   },
   "source": [
    "# GR526 Homework from Day 2: Limits, Convergence, Continuity\r\n",
    "\r\n",
    "Assigned: 1/28/21 in class\r\n",
    "Due: 2/4/21, 11:59pm\r\n",
    "\r\n",
    "I will state the collaboration rules at the top of each assignment; be sure to follow them.\r\n",
    "On *this* homework assignment, you may discuss the problems with peers in class, or get assistance from a tutor, such as one at Bentley’s Mathematics Learning Center.\r\n",
    "But always do your own work; *no one else should ever write your homework file for you.*\r\n",
    "\r\n",
    "Make a copy of this notebook and edit it to add your own answers.  (File > Save a copy in Drive.)  When you've completed your work, create a link to share your notebook (using the Share menu at the top right) and email your instructor the link.\r\n"
   ]
  },
  {
   "cell_type": "code",
   "execution_count": null,
   "metadata": {
    "colab": {
     "base_uri": "https://localhost:8080/"
    },
    "id": "jVYt8eo7n8F7",
    "outputId": "960feb51-3277-4f30-abce-0a9a52e040f8"
   },
   "outputs": [
    {
     "name": "stdout",
     "output_type": "stream",
     "text": [
      "Requirement already up-to-date: sympy in /usr/local/lib/python3.6/dist-packages (1.7.1)\n",
      "Requirement already satisfied, skipping upgrade: mpmath>=0.19 in /usr/local/lib/python3.6/dist-packages (from sympy) (1.1.0)\n"
     ]
    }
   ],
   "source": [
    "# we always start by importing SymPy, so I'll do that for you.  First, upgrade:\r\n",
    "!pip install sympy --upgrade"
   ]
  },
  {
   "cell_type": "code",
   "execution_count": null,
   "metadata": {
    "id": "SSe74GYLoHY6"
   },
   "outputs": [],
   "source": [
    "from sympy import *\r\n",
    "init_printing(use_latex='mathjax')"
   ]
  },
  {
   "cell_type": "markdown",
   "metadata": {
    "id": "jv30oNeghxLP"
   },
   "source": [
    "## Exercise 1\r\n",
    "\r\n",
    "In Excel, create a table that estimates the rate of change of the following function when $x=2$.\r\n",
    "\r\n",
    "$$f(x)=\\frac{\\ln(x+5)}{x-1}$$\r\n",
    "\r\n"
   ]
  },
  {
   "cell_type": "markdown",
   "metadata": {
    "id": "a3p7T3cyh5MP"
   },
   "source": [
    "(Paste your table from Excel here, in place of this text.)\r\n"
   ]
  },
  {
   "cell_type": "markdown",
   "metadata": {
    "id": "mJqoExE2n4T-"
   },
   "source": [
    "![image.png](data:image/png;base64,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)"
   ]
  },
  {
   "cell_type": "markdown",
   "metadata": {
    "id": "ArbImNNziLQm"
   },
   "source": [
    "## Exercise 2\r\n",
    "\r\n",
    "In SymPy, write the function $g(x)=\\frac{2x^2+7x-4}{2x-1}$.\r\n",
    "\r\n",
    "Evaluating $g(0.5)$ gives a division by zero error, as it should.\r\n",
    "\r\n",
    "We'd like to know whether the function $g(x)$ gets close to any particular value as $x$ gets close to 0.5 from either side.\r\n",
    "\r\n",
    "Evaluate $g(x)$ on at least four $x$ values to the left of 0.5, approaching closer and closer to 0.5.  Then repeat the same process with four values on the right of 0.5.\r\n",
    "\r\n",
    "Does the function seem to be converging to a value as $x$ approaches 0.5?  If so, what value?\r\n",
    "\r\n",
    "Put your answers below where indicated.\r\n"
   ]
  },
  {
   "cell_type": "code",
   "execution_count": null,
   "metadata": {
    "colab": {
     "base_uri": "https://localhost:8080/",
     "height": 38
    },
    "id": "jSvD4SfbhQIG",
    "outputId": "6ebfbbb4-9330-49a8-b1f3-02520e177b53"
   },
   "outputs": [
    {
     "data": {
      "text/latex": [
       "$\\displaystyle x$"
      ],
      "text/plain": [
       "x"
      ]
     },
     "execution_count": 3,
     "metadata": {
      "tags": []
     },
     "output_type": "execute_result"
    }
   ],
   "source": [
    "var('x')"
   ]
  },
  {
   "cell_type": "code",
   "execution_count": null,
   "metadata": {
    "colab": {
     "base_uri": "https://localhost:8080/",
     "height": 55
    },
    "id": "5PRlXGpdmhOI",
    "outputId": "7d947478-2a75-40e1-804b-976521f7d8fe"
   },
   "outputs": [
    {
     "data": {
      "text/latex": [
       "$\\displaystyle \\frac{2 x^{2} + 7 x - 4}{2 x - 1}$"
      ],
      "text/plain": [
       "   2          \n",
       "2⋅x  + 7⋅x - 4\n",
       "──────────────\n",
       "   2⋅x - 1    "
      ]
     },
     "execution_count": 4,
     "metadata": {
      "tags": []
     },
     "output_type": "execute_result"
    }
   ],
   "source": [
    "formula = (2*x**2 + 7*x - 4)/ (2*x - 1)\n",
    "formula"
   ]
  },
  {
   "cell_type": "code",
   "execution_count": null,
   "metadata": {
    "colab": {
     "base_uri": "https://localhost:8080/",
     "height": 37
    },
    "id": "HN-cy5vM-GKN",
    "outputId": "2f49962f-290e-4e57-ecc9-020b29f8e4f7"
   },
   "outputs": [
    {
     "data": {
      "text/latex": [
       "$\\displaystyle 4.1$"
      ],
      "text/plain": [
       "4.10000000000000"
      ]
     },
     "execution_count": 5,
     "metadata": {
      "tags": []
     },
     "output_type": "execute_result"
    }
   ],
   "source": [
    "formula.subs (x, 0.1)"
   ]
  },
  {
   "cell_type": "code",
   "execution_count": null,
   "metadata": {
    "colab": {
     "base_uri": "https://localhost:8080/",
     "height": 37
    },
    "id": "4SSWdwTr-n61",
    "outputId": "007f62f0-a8ad-46a7-ad83-b8e6458d4065"
   },
   "outputs": [
    {
     "data": {
      "text/latex": [
       "$\\displaystyle 4.3$"
      ],
      "text/plain": [
       "4.30000000000000"
      ]
     },
     "execution_count": 6,
     "metadata": {
      "tags": []
     },
     "output_type": "execute_result"
    }
   ],
   "source": [
    "formula.subs (x, 0.3)"
   ]
  },
  {
   "cell_type": "code",
   "execution_count": null,
   "metadata": {
    "colab": {
     "base_uri": "https://localhost:8080/",
     "height": 37
    },
    "id": "7zPKW59n-rVI",
    "outputId": "3d831cac-9755-4167-ebe1-cd6316b9ea98"
   },
   "outputs": [
    {
     "data": {
      "text/latex": [
       "$\\displaystyle 4.45$"
      ],
      "text/plain": [
       "4.45000000000000"
      ]
     },
     "execution_count": 7,
     "metadata": {
      "tags": []
     },
     "output_type": "execute_result"
    }
   ],
   "source": [
    "formula.subs (x, 0.45)"
   ]
  },
  {
   "cell_type": "code",
   "execution_count": null,
   "metadata": {
    "colab": {
     "base_uri": "https://localhost:8080/",
     "height": 37
    },
    "id": "qy9xsxmE-t8-",
    "outputId": "9a04a545-c186-4b1d-ddc2-783f0d4701dc"
   },
   "outputs": [
    {
     "data": {
      "text/latex": [
       "$\\displaystyle 4.49000000000001$"
      ],
      "text/plain": [
       "4.49000000000001"
      ]
     },
     "execution_count": 8,
     "metadata": {
      "tags": []
     },
     "output_type": "execute_result"
    }
   ],
   "source": [
    "formula.subs (x, 0.49)"
   ]
  },
  {
   "cell_type": "code",
   "execution_count": null,
   "metadata": {
    "colab": {
     "base_uri": "https://localhost:8080/",
     "height": 37
    },
    "id": "INkhgWo7-0ha",
    "outputId": "914c8cc8-aa84-45b0-aae8-029b80b2d6ef"
   },
   "outputs": [
    {
     "data": {
      "text/latex": [
       "$\\displaystyle 4.9$"
      ],
      "text/plain": [
       "4.90000000000000"
      ]
     },
     "execution_count": 9,
     "metadata": {
      "tags": []
     },
     "output_type": "execute_result"
    }
   ],
   "source": [
    "formula.subs (x, 0.9)"
   ]
  },
  {
   "cell_type": "code",
   "execution_count": null,
   "metadata": {
    "colab": {
     "base_uri": "https://localhost:8080/",
     "height": 37
    },
    "id": "8d8WOBFi-0ym",
    "outputId": "62275cc2-9109-4432-9702-f504100985a3"
   },
   "outputs": [
    {
     "data": {
      "text/latex": [
       "$\\displaystyle 4.7$"
      ],
      "text/plain": [
       "4.70000000000000"
      ]
     },
     "execution_count": 10,
     "metadata": {
      "tags": []
     },
     "output_type": "execute_result"
    }
   ],
   "source": [
    "formula.subs (x, 0.7)"
   ]
  },
  {
   "cell_type": "code",
   "execution_count": null,
   "metadata": {
    "colab": {
     "base_uri": "https://localhost:8080/",
     "height": 37
    },
    "id": "MCo7v7-C-1Jb",
    "outputId": "22c916ed-22b6-42dd-b3ba-18d333236289"
   },
   "outputs": [
    {
     "data": {
      "text/latex": [
       "$\\displaystyle 4.65$"
      ],
      "text/plain": [
       "4.65000000000000"
      ]
     },
     "execution_count": 11,
     "metadata": {
      "tags": []
     },
     "output_type": "execute_result"
    }
   ],
   "source": [
    "formula.subs (x, 0.65)"
   ]
  },
  {
   "cell_type": "code",
   "execution_count": null,
   "metadata": {
    "colab": {
     "base_uri": "https://localhost:8080/",
     "height": 37
    },
    "id": "M8mPra21-1Yb",
    "outputId": "4a0fef30-6b70-4898-bc02-b76b91db3c8d"
   },
   "outputs": [
    {
     "data": {
      "text/latex": [
       "$\\displaystyle 4.52$"
      ],
      "text/plain": [
       "4.52000000000000"
      ]
     },
     "execution_count": 12,
     "metadata": {
      "tags": []
     },
     "output_type": "execute_result"
    }
   ],
   "source": [
    "formula.subs (x, 0.52)"
   ]
  },
  {
   "cell_type": "markdown",
   "metadata": {
    "id": "5ngowaPvndNQ"
   },
   "source": [
    "The function is converging towards 4.5"
   ]
  },
  {
   "cell_type": "markdown",
   "metadata": {
    "id": "zV8heTV7iq_H"
   },
   "source": [
    "## Exercise 3\r\n",
    "\r\n",
    "Repeat the previous exercise with $h(x)=\\frac{x+9}{2x-1}$, still considering what happens as $x$ approaches 0.5 from each side."
   ]
  },
  {
   "cell_type": "code",
   "execution_count": null,
   "metadata": {
    "colab": {
     "base_uri": "https://localhost:8080/",
     "height": 52
    },
    "id": "G5tI6n7Mo0pQ",
    "outputId": "c29694b5-cee8-4127-ff0b-47301dcf3314"
   },
   "outputs": [
    {
     "data": {
      "text/latex": [
       "$\\displaystyle \\frac{x + 9}{2 x - 1}$"
      ],
      "text/plain": [
       " x + 9 \n",
       "───────\n",
       "2⋅x - 1"
      ]
     },
     "execution_count": 13,
     "metadata": {
      "tags": []
     },
     "output_type": "execute_result"
    }
   ],
   "source": [
    "formula1 = (x+9)/ (2*x - 1)\n",
    "formula1"
   ]
  },
  {
   "cell_type": "code",
   "execution_count": null,
   "metadata": {
    "colab": {
     "base_uri": "https://localhost:8080/"
    },
    "id": "c8zP4cYYo_aF",
    "outputId": "3158d16a-cf57-4b7f-ad92-22b1956eb0d2"
   },
   "outputs": [
    {
     "name": "stdout",
     "output_type": "stream",
     "text": [
      "-11.3750000000000\n",
      "-23.2500000000000\n",
      "-94.5000000000000\n",
      "-474.500000000000\n",
      "-47499.5000000052\n"
     ]
    }
   ],
   "source": [
    "print (formula1.subs(x, 0.1))\n",
    "print (formula1.subs(x, 0.3))\n",
    "print (formula1.subs(x, 0.45))\n",
    "print (formula1.subs(x, 0.49))\n",
    "print (formula1.subs(x, 0.4999))"
   ]
  },
  {
   "cell_type": "code",
   "execution_count": null,
   "metadata": {
    "colab": {
     "base_uri": "https://localhost:8080/"
    },
    "id": "52rxbP1_q9R_",
    "outputId": "47008342-283d-4a5a-de81-48ff128c6477"
   },
   "outputs": [
    {
     "name": "stdout",
     "output_type": "stream",
     "text": [
      "12.3750000000000\n",
      "24.2500000000000\n",
      "32.1666666666667\n",
      "53.2777777777778\n",
      "238.000000000000\n"
     ]
    }
   ],
   "source": [
    "print (formula1.subs(x, 0.9))\n",
    "print (formula1.subs(x, 0.7))\n",
    "print (formula1.subs(x, 0.65))\n",
    "print (formula1.subs(x, 0.59))\n",
    "print (formula1.subs(x, 0.52))"
   ]
  },
  {
   "cell_type": "markdown",
   "metadata": {
    "id": "7ORvGdyZsKSW"
   },
   "source": [
    "Unbounded - Neither the left nor the right limit converges"
   ]
  },
  {
   "cell_type": "markdown",
   "metadata": {
    "id": "ckRHQA2Gi9L2"
   },
   "source": [
    "## Exercise 4\r\n",
    "\r\n",
    "Use SymPy to graph both $g$ and $h$ from the previous two Exercises."
   ]
  },
  {
   "cell_type": "code",
   "execution_count": null,
   "metadata": {
    "colab": {
     "base_uri": "https://localhost:8080/",
     "height": 594
    },
    "id": "LTfU6Byf8c5b",
    "outputId": "30bd9953-f4b9-4f9f-8fa8-f153e5c4cafc"
   },
   "outputs": [
    {
     "data": {
      "image/png": "[encoded data removed]",
      "text/plain": [
       "<Figure size 432x288 with 1 Axes>"
      ]
     },
     "metadata": {
      "needs_background": "light",
      "tags": []
     },
     "output_type": "display_data"
    },
    {
     "data": {
      "image/png": "[encoded data removed]",
      "text/plain": [
       "<Figure size 432x288 with 1 Axes>"
      ]
     },
     "metadata": {
      "needs_background": "light",
      "tags": []
     },
     "output_type": "display_data"
    },
    {
     "data": {
      "text/plain": [
       "<sympy.plotting.plot.Plot at 0x7fca708eee48>"
      ]
     },
     "execution_count": 16,
     "metadata": {
      "tags": []
     },
     "output_type": "execute_result"
    }
   ],
   "source": [
    "plot (formula)\n",
    "plot (formula1)"
   ]
  },
  {
   "cell_type": "markdown",
   "metadata": {
    "id": "tDsjAWvZjY__"
   },
   "source": [
    "## Exercise 5\r\n",
    "\r\n",
    "In the slides for today, there were five examples of ways a limit could diverge (Divergent Example 1 through Divergent Example 5).  For each one, evaluate the corresponding limit in SymPy and by doing so, explain what each piece of output means.  Does SymPy ever make a mistake?"
   ]
  },
  {
   "cell_type": "code",
   "execution_count": null,
   "metadata": {
    "colab": {
     "base_uri": "https://localhost:8080/",
     "height": 38
    },
    "id": "iYolmYTrOWN0",
    "outputId": "b1406a78-b9da-4ea3-f8ff-210a72217236"
   },
   "outputs": [
    {
     "data": {
      "text/latex": [
       "$\\displaystyle x$"
      ],
      "text/plain": [
       "x"
      ]
     },
     "execution_count": 17,
     "metadata": {
      "tags": []
     },
     "output_type": "execute_result"
    }
   ],
   "source": [
    "var('x')\n"
   ]
  },
  {
   "cell_type": "markdown",
   "metadata": {
    "id": "7DFEvP1wbrzs"
   },
   "source": [
    "Unbounded Above means that limit from the left diverges or does not exist"
   ]
  },
  {
   "cell_type": "code",
   "execution_count": null,
   "metadata": {
    "colab": {
     "base_uri": "https://localhost:8080/",
     "height": 37
    },
    "id": "lplEgaFgUo75",
    "outputId": "28e61b9f-1e02-4606-a59b-0066abc51136"
   },
   "outputs": [
    {
     "data": {
      "text/latex": [
       "$\\displaystyle \\infty$"
      ],
      "text/plain": [
       "∞"
      ]
     },
     "execution_count": 18,
     "metadata": {
      "tags": []
     },
     "output_type": "execute_result"
    }
   ],
   "source": [
    "formula2 = 1/ (sin(x)**2)\n",
    "formula2\n",
    "limit(formula2, x, 0, \"-\")"
   ]
  },
  {
   "cell_type": "markdown",
   "metadata": {
    "id": "_g4vagjNghRR"
   },
   "source": [
    "Unbounded Below means that the limit from the right diverges or does not exist"
   ]
  },
  {
   "cell_type": "code",
   "execution_count": null,
   "metadata": {
    "colab": {
     "base_uri": "https://localhost:8080/",
     "height": 37
    },
    "id": "1KobseprU1Fr",
    "outputId": "11c7c1ba-e8c1-447b-daec-46fbbfe26e58"
   },
   "outputs": [
    {
     "data": {
      "text/latex": [
       "$\\displaystyle -\\infty$"
      ],
      "text/plain": [
       "-∞"
      ]
     },
     "execution_count": 19,
     "metadata": {
      "tags": []
     },
     "output_type": "execute_result"
    }
   ],
   "source": [
    "formula3 = (3*x - 9)/ (2*x - 2)\n",
    "formula3\n",
    "limit(formula3,x,1, \"+\")"
   ]
  },
  {
   "cell_type": "markdown",
   "metadata": {
    "id": "Pydmhb6oeFkr"
   },
   "source": [
    "Unbounded in general means neither the left nor right converges, both does not exist"
   ]
  },
  {
   "cell_type": "code",
   "execution_count": null,
   "metadata": {
    "colab": {
     "base_uri": "https://localhost:8080/",
     "height": 37
    },
    "id": "OIVc_IRvU1Pw",
    "outputId": "aac6d0b1-8067-42c0-c201-d2aef0bd360f"
   },
   "outputs": [
    {
     "data": {
      "text/latex": [
       "$\\displaystyle -\\infty$"
      ],
      "text/plain": [
       "-∞"
      ]
     },
     "execution_count": 20,
     "metadata": {
      "tags": []
     },
     "output_type": "execute_result"
    }
   ],
   "source": [
    "formula4 = log (x +10)/ (x+3)\n",
    "formula4\n",
    "limit(formula4,x,-3, \"-\")"
   ]
  },
  {
   "cell_type": "code",
   "execution_count": null,
   "metadata": {
    "colab": {
     "base_uri": "https://localhost:8080/",
     "height": 37
    },
    "id": "bppjPkNaZEBK",
    "outputId": "21b149f8-c851-4f0b-ff5c-03fcae28831c"
   },
   "outputs": [
    {
     "data": {
      "text/latex": [
       "$\\displaystyle \\infty$"
      ],
      "text/plain": [
       "∞"
      ]
     },
     "execution_count": 21,
     "metadata": {
      "tags": []
     },
     "output_type": "execute_result"
    }
   ],
   "source": [
    "formula5 = log (x +10)/ (x+3)\n",
    "formula5\n",
    "limit(formula5, x, -3, \"+\")"
   ]
  },
  {
   "cell_type": "markdown",
   "metadata": {
    "id": "L9EMHGTgeWaH"
   },
   "source": [
    "Disagreement means that left and right limit exists but they do not match"
   ]
  },
  {
   "cell_type": "code",
   "execution_count": null,
   "metadata": {
    "colab": {
     "base_uri": "https://localhost:8080/",
     "height": 51
    },
    "id": "wJhPxd0HU1ZR",
    "outputId": "06299e7c-839f-43b7-c35d-d97fe9fef8c9"
   },
   "outputs": [
    {
     "data": {
      "text/latex": [
       "$\\displaystyle \\frac{1}{3}$"
      ],
      "text/plain": [
       "1/3"
      ]
     },
     "execution_count": 22,
     "metadata": {
      "tags": []
     },
     "output_type": "execute_result"
    }
   ],
   "source": [
    "formula6 = (x)/ (3*abs(x))\n",
    "formula6\n",
    "limit(formula6,x,0, '+')\n"
   ]
  },
  {
   "cell_type": "code",
   "execution_count": null,
   "metadata": {
    "colab": {
     "base_uri": "https://localhost:8080/",
     "height": 51
    },
    "id": "umYJqTV8O6J3",
    "outputId": "eedf5523-74b3-4721-e780-d1173221a15d"
   },
   "outputs": [
    {
     "data": {
      "text/latex": [
       "$\\displaystyle - \\frac{1}{3}$"
      ],
      "text/plain": [
       "-1/3"
      ]
     },
     "execution_count": 23,
     "metadata": {
      "tags": []
     },
     "output_type": "execute_result"
    }
   ],
   "source": [
    "limit(formula6,x,0, '-')"
   ]
  },
  {
   "cell_type": "markdown",
   "metadata": {
    "id": "6OQ2q4wyfnH7"
   },
   "source": [
    "Convergence means no clear pattern of converging to any value"
   ]
  },
  {
   "cell_type": "code",
   "execution_count": null,
   "metadata": {
    "colab": {
     "base_uri": "https://localhost:8080/",
     "height": 37
    },
    "id": "JTV9nQDIU1iD",
    "outputId": "985a69b3-80f9-44e2-9379-da97599f755f"
   },
   "outputs": [
    {
     "data": {
      "text/latex": [
       "$\\displaystyle \\left\\langle -1, 1\\right\\rangle$"
      ],
      "text/plain": [
       "<-1, 1>"
      ]
     },
     "execution_count": 24,
     "metadata": {
      "tags": []
     },
     "output_type": "execute_result"
    }
   ],
   "source": [
    "formula7 = cos(1/x)\n",
    "formula7\n",
    "limit(formula7, x, 0, \"+\")"
   ]
  },
  {
   "cell_type": "markdown",
   "metadata": {
    "id": "ZPUktWpYF9Q_"
   },
   "source": [
    "SymPy may make a mistake. With reference to Example 4, if I do not mention '+' and '-', it only gives 1/3 and ignores -1/3"
   ]
  },
  {
   "cell_type": "markdown",
   "metadata": {
    "id": "Lg8zICifjof-"
   },
   "source": [
    "## Exercise 6\r\n",
    "\r\n",
    "Use SymPy to define the function $g(x)=\\frac{15x^2+6x-21}{3x-3}$.  State the $x$ value at which this function has a removable discontinuity.  Use SymPy to compute the limit at that $x$ value.  Define a new function in SymPy, $h(x)$, that is equal to $g(x)$ everywhere except at the point of the removable discontinuity; at that point, ensure that $h$ is continuous."
   ]
  },
  {
   "cell_type": "code",
   "execution_count": null,
   "metadata": {
    "colab": {
     "base_uri": "https://localhost:8080/",
     "height": 38
    },
    "id": "FiCq0v02Uz8U",
    "outputId": "6fd5b4e9-b047-42ba-8f95-d9ab81c7574c"
   },
   "outputs": [
    {
     "data": {
      "text/latex": [
       "$\\displaystyle x$"
      ],
      "text/plain": [
       "x"
      ]
     },
     "execution_count": 25,
     "metadata": {
      "tags": []
     },
     "output_type": "execute_result"
    }
   ],
   "source": [
    "var ('x')"
   ]
  },
  {
   "cell_type": "code",
   "execution_count": null,
   "metadata": {
    "colab": {
     "base_uri": "https://localhost:8080/",
     "height": 55
    },
    "id": "Js85bXW9IEzB",
    "outputId": "6989dce5-9860-4e0c-8542-aa68d83cda8d"
   },
   "outputs": [
    {
     "data": {
      "text/latex": [
       "$\\displaystyle \\frac{15 x^{2} + 6 x - 21}{3 x - 3}$"
      ],
      "text/plain": [
       "    2           \n",
       "15⋅x  + 6⋅x - 21\n",
       "────────────────\n",
       "    3⋅x - 3     "
      ]
     },
     "execution_count": 26,
     "metadata": {
      "tags": []
     },
     "output_type": "execute_result"
    }
   ],
   "source": [
    "formula8= (15*x**2+6*x-21)/ (3*x-3)\n",
    "formula8"
   ]
  },
  {
   "cell_type": "markdown",
   "metadata": {
    "id": "qb0dVejdJLSh"
   },
   "source": [
    "At x=1, the function has a removable discontinuity"
   ]
  },
  {
   "cell_type": "code",
   "execution_count": null,
   "metadata": {
    "colab": {
     "base_uri": "https://localhost:8080/",
     "height": 37
    },
    "id": "QTx4xHBCIE6z",
    "outputId": "095543e0-bf0d-4dd3-9a43-63f77aba2f81"
   },
   "outputs": [
    {
     "data": {
      "text/latex": [
       "$\\displaystyle 12$"
      ],
      "text/plain": [
       "12"
      ]
     },
     "execution_count": 27,
     "metadata": {
      "tags": []
     },
     "output_type": "execute_result"
    }
   ],
   "source": [
    "limit(formula8,x,1)"
   ]
  },
  {
   "cell_type": "code",
   "execution_count": null,
   "metadata": {
    "colab": {
     "base_uri": "https://localhost:8080/",
     "height": 314
    },
    "id": "hqPork7Lj7J2",
    "outputId": "a93ad1aa-8ecf-404c-e711-edaa3ba6b3da"
   },
   "outputs": [
    {
     "data": {
      "image/png": "[encoded data removed]",
      "text/plain": [
       "<Figure size 432x288 with 1 Axes>"
      ]
     },
     "metadata": {
      "needs_background": "light",
      "tags": []
     },
     "output_type": "display_data"
    },
    {
     "data": {
      "text/plain": [
       "<sympy.plotting.plot.Plot at 0x7fca7041d470>"
      ]
     },
     "execution_count": 28,
     "metadata": {
      "tags": []
     },
     "output_type": "execute_result"
    }
   ],
   "source": [
    "plot (formula8)"
   ]
  },
  {
   "cell_type": "code",
   "execution_count": null,
   "metadata": {
    "colab": {
     "base_uri": "https://localhost:8080/",
     "height": 68
    },
    "id": "22I88jYHIc9T",
    "outputId": "9c13f011-ffb7-4c3e-be24-20c476198e43"
   },
   "outputs": [
    {
     "data": {
      "text/latex": [
       "$\\displaystyle \\begin{cases} \\frac{15 x^{2} + 6 x - 21}{3 x - 3} & \\text{for}\\: x \\neq 1 \\\\12 & \\text{otherwise} \\end{cases}$"
      ],
      "text/plain": [
       "⎧    2                      \n",
       "⎪15⋅x  + 6⋅x - 21           \n",
       "⎪────────────────  for x ≠ 1\n",
       "⎨    3⋅x - 3                \n",
       "⎪                           \n",
       "⎪       12         otherwise\n",
       "⎩                           "
      ]
     },
     "execution_count": 29,
     "metadata": {
      "tags": []
     },
     "output_type": "execute_result"
    }
   ],
   "source": [
    "formula9 = Piecewise((formula8, x>1), (formula8, x<1), (12, Eq(x,1)))\n",
    "formula9\n"
   ]
  },
  {
   "cell_type": "markdown",
   "metadata": {
    "id": "Q61Tfq2NkAqO"
   },
   "source": [
    "## Exercise 7\r\n",
    "\r\n",
    "Use SymPy to graph the function\r\n",
    "\r\n",
    "$$f(x)=\\begin{cases}-1+\\tan x & \\text{if }x<0 \\\\ 1 & \\text{if }x\\geq 0.\\end{cases}$$\r\n",
    "\r\n",
    "Use SymPy to compute the left- and right-hand limits at $x=0$.  State what kind of discontinuity $f$ has."
   ]
  },
  {
   "cell_type": "code",
   "execution_count": null,
   "metadata": {
    "id": "KosKfQIAkS1F"
   },
   "outputs": [],
   "source": [
    "# Replace this code cell with one or more code cells, as needed, to complete the exercise."
   ]
  },
  {
   "cell_type": "markdown",
   "metadata": {
    "id": "t8aXkaBOkUCF"
   },
   "source": [
    "Replace this text with any explanations you need to add to your code to complete the exercise."
   ]
  },
  {
   "cell_type": "code",
   "execution_count": null,
   "metadata": {
    "colab": {
     "base_uri": "https://localhost:8080/",
     "height": 68
    },
    "id": "4WwqVL2IVIzj",
    "outputId": "cec4aab8-9a4f-4cd1-b679-e598f6b88ee3"
   },
   "outputs": [
    {
     "data": {
      "text/latex": [
       "$\\displaystyle \\begin{cases} \\tan{\\left(x \\right)} - 1 & \\text{for}\\: x < 0 \\\\1 & \\text{otherwise} \\end{cases}$"
      ],
      "text/plain": [
       "⎧tan(x) - 1  for x < 0\n",
       "⎨                     \n",
       "⎩    1       otherwise"
      ]
     },
     "execution_count": 31,
     "metadata": {
      "tags": []
     },
     "output_type": "execute_result"
    }
   ],
   "source": [
    "formula10 = Piecewise ((-1+tan(x), x<0), (1, x>=0))\n",
    "formula10"
   ]
  },
  {
   "cell_type": "code",
   "execution_count": null,
   "metadata": {
    "colab": {
     "base_uri": "https://localhost:8080/",
     "height": 312
    },
    "id": "pcHMMxZ8Xyhr",
    "outputId": "18df17eb-de38-4e89-e840-d2bdfe710e77"
   },
   "outputs": [
    {
     "data": {
      "image/png": "[encoded data removed]",
      "text/plain": [
       "<Figure size 432x288 with 1 Axes>"
      ]
     },
     "metadata": {
      "needs_background": "light",
      "tags": []
     },
     "output_type": "display_data"
    },
    {
     "data": {
      "text/plain": [
       "<sympy.plotting.plot.Plot at 0x7fca700a6a20>"
      ]
     },
     "execution_count": 42,
     "metadata": {
      "tags": []
     },
     "output_type": "execute_result"
    }
   ],
   "source": [
    "plot (formula10)"
   ]
  },
  {
   "cell_type": "code",
   "execution_count": null,
   "metadata": {
    "colab": {
     "base_uri": "https://localhost:8080/"
    },
    "id": "jS2XdrIjXy7J",
    "outputId": "99f51253-854d-4140-acb9-97e855e1f65b"
   },
   "outputs": [
    {
     "name": "stdout",
     "output_type": "stream",
     "text": [
      "-1.54630248984379\n",
      "-1.10033467208545\n"
     ]
    }
   ],
   "source": [
    "print (formula10.subs(x, -0.5))\n",
    "print (formula10.subs(x, -0.1))"
   ]
  },
  {
   "cell_type": "code",
   "execution_count": null,
   "metadata": {
    "colab": {
     "base_uri": "https://localhost:8080/"
    },
    "id": "sadhStCJaTZF",
    "outputId": "421ceb3f-e906-4974-91e0-fba72018ba41"
   },
   "outputs": [
    {
     "name": "stdout",
     "output_type": "stream",
     "text": [
      "1\n",
      "1\n"
     ]
    }
   ],
   "source": [
    "print (formula10.subs(x, 0.1))\n",
    "print (formula10.subs(x, 0.5))"
   ]
  },
  {
   "cell_type": "markdown",
   "metadata": {
    "id": "GZ-me6ELYtdo"
   },
   "source": [
    "f(x) has Jump Discontinuity because left and right limit exists but they are not the same"
   ]
  },
  {
   "cell_type": "markdown",
   "metadata": {
    "id": "9MCmxnCfkVsF"
   },
   "source": [
    "## Exercise 8\r\n",
    "\r\n",
    "Find a function and an $x$ value for which one of the one-sided limits exists, but the other does not.  Plot your function using SymPy, and include the code and plot below."
   ]
  },
  {
   "cell_type": "code",
   "execution_count": null,
   "metadata": {
    "id": "5o3nHqJRke_e"
   },
   "outputs": [],
   "source": [
    "# Replace this code cell with one or more code cells, as needed, to complete the exercise."
   ]
  },
  {
   "cell_type": "code",
   "execution_count": null,
   "metadata": {
    "colab": {
     "base_uri": "https://localhost:8080/"
    },
    "id": "vycVQI3iomEz",
    "outputId": "ff66cf67-5898-4011-8164-5801f2d3de88"
   },
   "outputs": [
    {
     "name": "stdout",
     "output_type": "stream",
     "text": [
      "0\n",
      "0\n"
     ]
    }
   ],
   "source": [
    "formula11 = sqrt(x-6)\n",
    "formula11\n",
    "print(limit(formula11,x,6, '+'))\n",
    "print(limit(formula11,x,6, '-'))"
   ]
  },
  {
   "cell_type": "code",
   "execution_count": null,
   "metadata": {
    "colab": {
     "base_uri": "https://localhost:8080/",
     "height": 314
    },
    "id": "KMZUS3ZHo5-f",
    "outputId": "9ccd39ce-c9e3-4113-ea50-ca15e90074c3"
   },
   "outputs": [
    {
     "data": {
      "image/png": "[encoded data removed]",
      "text/plain": [
       "<Figure size 432x288 with 1 Axes>"
      ]
     },
     "metadata": {
      "needs_background": "light",
      "tags": []
     },
     "output_type": "display_data"
    },
    {
     "data": {
      "text/plain": [
       "<sympy.plotting.plot.Plot at 0x7fca702665c0>"
      ]
     },
     "execution_count": 37,
     "metadata": {
      "tags": []
     },
     "output_type": "execute_result"
    }
   ],
   "source": [
    "plot (formula11)"
   ]
  },
  {
   "cell_type": "markdown",
   "metadata": {
    "id": "b2joPhh-klVt"
   },
   "source": [
    "## Exercise 9\r\n",
    "\r\n",
    "Show the steps of evaluating each of the following limits algebraically when possible, and using other means when algebra is not possible.  To submit this type of by-hand calculation, just write it on paper, take a photo, send it to your computer, and attach it with the \"insert image\" button in the toolbar above.\r\n",
    "\r\n",
    " * $\\displaystyle\\lim_{x\\to\\frac{1}{2}}\\frac{\\sin x+\\cos x}{\\ln x}$\r\n",
    " * $\\displaystyle\\lim_{x\\to1}(\\ln(x^2-1)-\\ln(x-1))$\r\n",
    " * If $\\displaystyle f(x)=\\begin{cases} 15 & \\text{if }x\\leq0 \\\\ \\frac{1}{x} & \\text{if }x>0,\\end{cases}$ then what is $\\displaystyle\\lim_{x\\to0^+}f(x)$?"
   ]
  },
  {
   "cell_type": "markdown",
   "metadata": {
    "id": "BnVoxLFilC0l"
   },
   "source": [
    "![Calculus Assignment1.jpeg](data:image/jpeg;base64,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)Replace this text with images of your by-hand work."
   ]
  },
  {
   "cell_type": "code",
   "execution_count": null,
   "metadata": {
    "id": "QspL1pHkjRrc"
   },
   "outputs": [],
   "source": []
  }
 ],
 "metadata": {
  "colab": {
   "name": "Assignment 1 Smriti Bangia.ipynb",
   "provenance": []
  },
  "kernelspec": {
   "display_name": "Python 3",
   "language": "python",
   "name": "python3"
  },
  "language_info": {
   "codemirror_mode": {
    "name": "ipython",
    "version": 3
   },
   "file_extension": ".py",
   "mimetype": "text/x-python",
   "name": "python",
   "nbconvert_exporter": "python",
   "pygments_lexer": "ipython3",
   "version": "3.8.5"
  }
 },
 "nbformat": 4,
 "nbformat_minor": 4
}
