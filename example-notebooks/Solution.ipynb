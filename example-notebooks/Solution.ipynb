{
 "cells": [
  {
   "cell_type": "markdown",
   "metadata": {
    "id": "dG90gfv0hSCI"
   },
   "source": [
    "# Solutions to GR526 Homework from Day 2: Limits, Convergence, Continuity\r\n",
    "\r\n",
    "Assigned: 1/28/21 in class\r\n",
    "Due: 2/4/21, 11:59pm\r\n"
   ]
  },
  {
   "cell_type": "code",
   "execution_count": null,
   "metadata": {
    "colab": {
     "base_uri": "https://localhost:8080/"
    },
    "id": "jVYt8eo7n8F7",
    "outputId": "c4a2cae7-6cbc-4066-bdb0-27bf0616ce55"
   },
   "outputs": [
    {
     "name": "stdout",
     "output_type": "stream",
     "text": [
      "Collecting sympy\n",
      "\u001b[?25l  Downloading https://files.pythonhosted.org/packages/ff/69/b16fc81b939d3efdd0b552f2e3e54f7fa1423d0c320cced2e69e675dde26/sympy-1.7.1-py3-none-any.whl (5.9MB)\n",
      "\u001b[K     |████████████████████████████████| 5.9MB 9.7MB/s \n",
      "\u001b[?25hRequirement already satisfied, skipping upgrade: mpmath>=0.19 in /usr/local/lib/python3.6/dist-packages (from sympy) (1.1.0)\n",
      "Installing collected packages: sympy\n",
      "  Found existing installation: sympy 1.1.1\n",
      "    Uninstalling sympy-1.1.1:\n",
      "      Successfully uninstalled sympy-1.1.1\n",
      "Successfully installed sympy-1.7.1\n"
     ]
    }
   ],
   "source": [
    "# we always start by importing SymPy, so I'll do that for you.  First, upgrade:\r\n",
    "!pip install sympy --upgrade"
   ]
  },
  {
   "cell_type": "code",
   "execution_count": null,
   "metadata": {
    "id": "SSe74GYLoHY6"
   },
   "outputs": [],
   "source": [
    "from sympy import *\r\n",
    "init_printing(use_latex='mathjax')"
   ]
  },
  {
   "cell_type": "markdown",
   "metadata": {
    "id": "jv30oNeghxLP"
   },
   "source": [
    "## Exercise 1\r\n",
    "\r\n",
    "In Excel, create a table that estimates the rate of change of the following function when $x=2$.\r\n",
    "\r\n",
    "$$f(x)=\\frac{\\ln(x+5)}{x-1}$$\r\n",
    "\r\n"
   ]
  },
  {
   "cell_type": "markdown",
   "metadata": {
    "id": "a3p7T3cyh5MP"
   },
   "source": [
    "![image.png](data:image/png;base64,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)"
   ]
  },
  {
   "cell_type": "markdown",
   "metadata": {
    "id": "ArbImNNziLQm"
   },
   "source": [
    "## Exercise 2\r\n",
    "\r\n",
    "In SymPy, write the function $g(x)=\\frac{2x^2+7x-4}{2x-1}$.\r\n",
    "\r\n",
    "Evaluating $g(0.5)$ gives a division by zero error, as it should.\r\n",
    "\r\n",
    "We'd like to know whether the function $g(x)$ gets close to any particular value as $x$ gets close to 0.5 from either side.\r\n",
    "\r\n",
    "Evaluate $g(x)$ on at least four $x$ values to the left of 0.5, approaching closer and closer to 0.5.  Then repeat the same process with four values on the right of 0.5.\r\n",
    "\r\n",
    "Does the function seem to be converging to a value as $x$ approaches 0.5?  If so, what value?\r\n",
    "\r\n",
    "Put your answers below where indicated.\r\n"
   ]
  },
  {
   "cell_type": "code",
   "execution_count": null,
   "metadata": {
    "colab": {
     "base_uri": "https://localhost:8080/",
     "height": 56
    },
    "id": "jSvD4SfbhQIG",
    "outputId": "577f10a8-7811-458d-8e8e-036a9b9413c8"
   },
   "outputs": [
    {
     "data": {
      "text/latex": [
       "$\\displaystyle \\frac{2 x^{2} + 7 x - 4}{2 x - 1}$"
      ],
      "text/plain": [
       "   2          \n",
       "2⋅x  + 7⋅x - 4\n",
       "──────────────\n",
       "   2⋅x - 1    "
      ]
     },
     "execution_count": 3,
     "metadata": {
      "tags": []
     },
     "output_type": "execute_result"
    }
   ],
   "source": [
    "var('x')\r\n",
    "g = ( 2*x**2 + 7*x - 4 ) / ( 2*x - 1 )\r\n",
    "g"
   ]
  },
  {
   "cell_type": "code",
   "execution_count": null,
   "metadata": {
    "colab": {
     "base_uri": "https://localhost:8080/",
     "height": 37
    },
    "id": "h5pqOLQL0vWB",
    "outputId": "8781cc75-2ee1-43a7-a205-76e4dfd6f1e8"
   },
   "outputs": [
    {
     "data": {
      "text/latex": [
       "$\\displaystyle \\left( 4, \\  4.4, \\  4.49000000000001, \\  4.49900000000003\\right)$"
      ],
      "text/plain": [
       "(4, 4.4, 4.49000000000001, 4.49900000000003)"
      ]
     },
     "execution_count": 5,
     "metadata": {
      "tags": []
     },
     "output_type": "execute_result"
    }
   ],
   "source": [
    "g.subs(x,0), g.subs(x,0.4), g.subs(x,0.49), g.subs(x,0.499)"
   ]
  },
  {
   "cell_type": "code",
   "execution_count": null,
   "metadata": {
    "colab": {
     "base_uri": "https://localhost:8080/",
     "height": 37
    },
    "id": "6UWkOYfI04vW",
    "outputId": "5d601845-4d63-4957-de39-e59d31e89297"
   },
   "outputs": [
    {
     "data": {
      "text/latex": [
       "$\\displaystyle \\left( 5, \\  4.6, \\  4.51000000000001, \\  4.50100000000008\\right)$"
      ],
      "text/plain": [
       "(5, 4.6, 4.51000000000001, 4.50100000000008)"
      ]
     },
     "execution_count": 6,
     "metadata": {
      "tags": []
     },
     "output_type": "execute_result"
    }
   ],
   "source": [
    "g.subs(x,1), g.subs(x,0.6), g.subs(x,0.51), g.subs(x,0.501)"
   ]
  },
  {
   "cell_type": "markdown",
   "metadata": {
    "id": "Be0Tp4tvikuP"
   },
   "source": [
    "It appears to be converging to 4.5."
   ]
  },
  {
   "cell_type": "markdown",
   "metadata": {
    "id": "zV8heTV7iq_H"
   },
   "source": [
    "## Exercise 3\r\n",
    "\r\n",
    "Repeat the previous exercise with $h(x)=\\frac{x+9}{2x-1}$, still considering what happens as $x$ approaches 0.5 from each side."
   ]
  },
  {
   "cell_type": "code",
   "execution_count": null,
   "metadata": {
    "colab": {
     "base_uri": "https://localhost:8080/",
     "height": 53
    },
    "id": "9_LX2Civ1Cbf",
    "outputId": "0787f64d-cad0-4d41-edd4-f77651d1e126"
   },
   "outputs": [
    {
     "data": {
      "text/latex": [
       "$\\displaystyle \\frac{x + 9}{2 x - 1}$"
      ],
      "text/plain": [
       " x + 9 \n",
       "───────\n",
       "2⋅x - 1"
      ]
     },
     "execution_count": 7,
     "metadata": {
      "tags": []
     },
     "output_type": "execute_result"
    }
   ],
   "source": [
    "h = ( x + 9 ) / ( 2*x - 1 )\r\n",
    "h"
   ]
  },
  {
   "cell_type": "code",
   "execution_count": null,
   "metadata": {
    "colab": {
     "base_uri": "https://localhost:8080/",
     "height": 37
    },
    "id": "Ky5I0-Mr1Ht2",
    "outputId": "5cffa7b6-5bbe-4214-da71-3169925c0e61"
   },
   "outputs": [
    {
     "data": {
      "text/latex": [
       "$\\displaystyle \\left( -9, \\  -47.0, \\  -474.5, \\  -4749.5\\right)$"
      ],
      "text/plain": [
       "(-9, -47.0, -474.5, -4749.5)"
      ]
     },
     "execution_count": 8,
     "metadata": {
      "tags": []
     },
     "output_type": "execute_result"
    }
   ],
   "source": [
    "h.subs(x,0), h.subs(x,0.4), h.subs(x,0.49), h.subs(x,0.499)"
   ]
  },
  {
   "cell_type": "code",
   "execution_count": null,
   "metadata": {
    "colab": {
     "base_uri": "https://localhost:8080/",
     "height": 37
    },
    "id": "_XeJLy4Y1JnP",
    "outputId": "eca48427-916c-40dc-ccff-3ccb0dd7867f"
   },
   "outputs": [
    {
     "data": {
      "text/latex": [
       "$\\displaystyle \\left( 10, \\  48.0, \\  475.5, \\  4750.5\\right)$"
      ],
      "text/plain": [
       "(10, 48.0, 475.5, 4750.5)"
      ]
     },
     "execution_count": 9,
     "metadata": {
      "tags": []
     },
     "output_type": "execute_result"
    }
   ],
   "source": [
    "h.subs(x,1), h.subs(x,0.6), h.subs(x,0.51), h.subs(x,0.501)"
   ]
  },
  {
   "cell_type": "markdown",
   "metadata": {
    "id": "1Wbi9b6Ci3hv"
   },
   "source": [
    "The function does not appear to be converging to anything.  From the left, it seems to diverge towards $-\\infty$, and from the right, it seems to diverge towards $\\infty$."
   ]
  },
  {
   "cell_type": "markdown",
   "metadata": {
    "id": "ckRHQA2Gi9L2"
   },
   "source": [
    "## Exercise 4\r\n",
    "\r\n",
    "Use SymPy to graph both $g$ and $h$ from the previous two Exercises."
   ]
  },
  {
   "cell_type": "code",
   "execution_count": null,
   "metadata": {
    "colab": {
     "base_uri": "https://localhost:8080/",
     "height": 297
    },
    "id": "hGQSDVVIikGL",
    "outputId": "3e6a9e22-3626-4f25-8ba3-1d0f05e52e4b"
   },
   "outputs": [
    {
     "data": {
      "image/png": "[encoded data removed]",
      "text/plain": [
       "<Figure size 432x288 with 1 Axes>"
      ]
     },
     "metadata": {
      "needs_background": "light",
      "tags": []
     },
     "output_type": "display_data"
    }
   ],
   "source": [
    "p = plot( g )"
   ]
  },
  {
   "cell_type": "code",
   "execution_count": null,
   "metadata": {
    "colab": {
     "base_uri": "https://localhost:8080/",
     "height": 297
    },
    "id": "HpeSmQR81m--",
    "outputId": "37c665b9-260f-4a6d-9ce6-a3033a57b286"
   },
   "outputs": [
    {
     "data": {
      "image/png": "[encoded data removed]",
      "text/plain": [
       "<Figure size 432x288 with 1 Axes>"
      ]
     },
     "metadata": {
      "needs_background": "light",
      "tags": []
     },
     "output_type": "display_data"
    }
   ],
   "source": [
    "p = plot( h, ylim=(-10,10) )"
   ]
  },
  {
   "cell_type": "markdown",
   "metadata": {
    "id": "tDsjAWvZjY__"
   },
   "source": [
    "## Exercise 5\r\n",
    "\r\n",
    "In the slides for today, there were five examples of ways a limit could diverge (Divergent Example 1 through Divergent Example 5).  For each one, evaluate the corresponding limit in SymPy and by doing so, explain what each piece of output means.  Does SymPy ever make a mistake?"
   ]
  },
  {
   "cell_type": "code",
   "execution_count": null,
   "metadata": {
    "colab": {
     "base_uri": "https://localhost:8080/",
     "height": 37
    },
    "id": "W76-iCj7jlRO",
    "outputId": "0beabdd2-ef4e-4f5f-8532-677cef142ad6"
   },
   "outputs": [
    {
     "data": {
      "text/latex": [
       "$\\displaystyle \\infty$"
      ],
      "text/plain": [
       "∞"
      ]
     },
     "execution_count": 14,
     "metadata": {
      "tags": []
     },
     "output_type": "execute_result"
    }
   ],
   "source": [
    "# Divergent example 1\r\n",
    "limit( 1/sin(x)**2, x, 0, \"-\" )"
   ]
  },
  {
   "cell_type": "markdown",
   "metadata": {
    "id": "Mp3OpKBIjw6O"
   },
   "source": [
    "This is correct.  It means \"unbounded above,\" and is the same answer as we had in the slides."
   ]
  },
  {
   "cell_type": "code",
   "execution_count": null,
   "metadata": {
    "colab": {
     "base_uri": "https://localhost:8080/",
     "height": 37
    },
    "id": "cJAjES4J1-UO",
    "outputId": "52133a11-0777-400a-cdc2-e39d7629dda4"
   },
   "outputs": [
    {
     "data": {
      "text/latex": [
       "$\\displaystyle -\\infty$"
      ],
      "text/plain": [
       "-∞"
      ]
     },
     "execution_count": 15,
     "metadata": {
      "tags": []
     },
     "output_type": "execute_result"
    }
   ],
   "source": [
    "# Divergent example 2\r\n",
    "limit( (3*x-9)/(2*x-2), x, 1, \"+\" )"
   ]
  },
  {
   "cell_type": "markdown",
   "metadata": {
    "id": "h6TLP9b92FE5"
   },
   "source": [
    "This is correct.  It means \"unbounded below,\" and is the same answer as we had in the slides."
   ]
  },
  {
   "cell_type": "code",
   "execution_count": null,
   "metadata": {
    "colab": {
     "base_uri": "https://localhost:8080/",
     "height": 37
    },
    "id": "NjVE7lyU2HHu",
    "outputId": "4ffe80ff-3f26-4e4a-cee2-bd5941acb51a"
   },
   "outputs": [
    {
     "data": {
      "text/latex": [
       "$\\displaystyle \\infty$"
      ],
      "text/plain": [
       "∞"
      ]
     },
     "execution_count": 16,
     "metadata": {
      "tags": []
     },
     "output_type": "execute_result"
    }
   ],
   "source": [
    "# Divergent example 3\r\n",
    "limit( log(x+10)/(x+3), x, -3 )"
   ]
  },
  {
   "cell_type": "markdown",
   "metadata": {
    "id": "FYYhldMA2PdZ"
   },
   "source": [
    "This is sort of correct.  The $\\infty$ suggests the function is just unbounded above, but in fact it's actually unbounded in both directions, as we saw in the slides."
   ]
  },
  {
   "cell_type": "code",
   "execution_count": null,
   "metadata": {
    "colab": {
     "base_uri": "https://localhost:8080/",
     "height": 51
    },
    "id": "islPiz2o2Zaq",
    "outputId": "4ec91b42-76eb-4db2-c0df-ea6d235efca7"
   },
   "outputs": [
    {
     "data": {
      "text/latex": [
       "$\\displaystyle \\frac{1}{3}$"
      ],
      "text/plain": [
       "1/3"
      ]
     },
     "execution_count": 17,
     "metadata": {
      "tags": []
     },
     "output_type": "execute_result"
    }
   ],
   "source": [
    "# Divergent example 4\r\n",
    "limit( x/abs(3*x), x, 0 )"
   ]
  },
  {
   "cell_type": "markdown",
   "metadata": {
    "id": "RFJkn-TM2eT8"
   },
   "source": [
    "This is incorrect.  As we saw in the slides, the limits from the left and right do not agree (one being $-\\frac13$ and the other being $\\frac13$).  The correct answer is that this limit does not exist."
   ]
  },
  {
   "cell_type": "code",
   "execution_count": null,
   "metadata": {
    "colab": {
     "base_uri": "https://localhost:8080/",
     "height": 37
    },
    "id": "H8eJuEu62n7u",
    "outputId": "41174318-5055-4452-ce44-21b81f462d37"
   },
   "outputs": [
    {
     "data": {
      "text/latex": [
       "$\\displaystyle \\left\\langle -1, 1\\right\\rangle$"
      ],
      "text/plain": [
       "<-1, 1>"
      ]
     },
     "execution_count": 18,
     "metadata": {
      "tags": []
     },
     "output_type": "execute_result"
    }
   ],
   "source": [
    "# Divergent example 5\r\n",
    "limit( cos(1/x), x, 0, \"+\" )"
   ]
  },
  {
   "cell_type": "markdown",
   "metadata": {
    "id": "qsCnYa7y2rW8"
   },
   "source": [
    "This is SymPy's best way to say, \"I can't find a limit here, but if there is one, it's somewhere between -1 and 1.\"  As we saw in the slides, the function never converges, but wiggles a LOT between -1 and 1, so this answer from SymPy makes sense."
   ]
  },
  {
   "cell_type": "markdown",
   "metadata": {
    "id": "Lg8zICifjof-"
   },
   "source": [
    "## Exercise 6\r\n",
    "\r\n",
    "Use SymPy to define the function $g(x)=\\frac{15x^2+6x-21}{3x-3}$.  State the $x$ value at which this function has a removable discontinuity.  Use SymPy to compute the limit at that $x$ value.  Define a new function in SymPy, $h(x)$, that is equal to $g(x)$ everywhere except at the point of the removable discontinuity; at that point, ensure that $h$ is continuous."
   ]
  },
  {
   "cell_type": "code",
   "execution_count": null,
   "metadata": {
    "colab": {
     "base_uri": "https://localhost:8080/",
     "height": 56
    },
    "id": "hqPork7Lj7J2",
    "outputId": "af659fbd-89d2-4aa0-d4fe-49b183be510a"
   },
   "outputs": [
    {
     "data": {
      "text/latex": [
       "$\\displaystyle \\frac{15 x^{2} + 6 x - 21}{3 x - 3}$"
      ],
      "text/plain": [
       "    2           \n",
       "15⋅x  + 6⋅x - 21\n",
       "────────────────\n",
       "    3⋅x - 3     "
      ]
     },
     "execution_count": 19,
     "metadata": {
      "tags": []
     },
     "output_type": "execute_result"
    }
   ],
   "source": [
    "g = ( 15*x**2 + 6*x - 21 ) / ( 3*x - 3 )\r\n",
    "g"
   ]
  },
  {
   "cell_type": "markdown",
   "metadata": {
    "id": "QBHYrsb8j8N2"
   },
   "source": [
    "It has a removable discontinuity where the denominator is zero.  Obviously $3x-3=0$ when $x=1$.\r\n",
    "\r\n",
    "We can factor the numerator into $(5x+7)(3x-3)$ and cancel the $3x-3$ with the denominator to find that $g(x)=5x+7$ everywhere except at the problem point $x=1$."
   ]
  },
  {
   "cell_type": "code",
   "execution_count": null,
   "metadata": {
    "colab": {
     "base_uri": "https://localhost:8080/",
     "height": 38
    },
    "id": "5ayIh32d3Rs7",
    "outputId": "8904f89f-0b22-473c-9f7e-63c9be3fd2f6"
   },
   "outputs": [
    {
     "data": {
      "text/latex": [
       "$\\displaystyle 5 x + 7$"
      ],
      "text/plain": [
       "5⋅x + 7"
      ]
     },
     "execution_count": 20,
     "metadata": {
      "tags": []
     },
     "output_type": "execute_result"
    }
   ],
   "source": [
    "h = 5*x + 7\r\n",
    "h"
   ]
  },
  {
   "cell_type": "markdown",
   "metadata": {
    "id": "Q61Tfq2NkAqO"
   },
   "source": [
    "## Exercise 7\r\n",
    "\r\n",
    "Use SymPy to graph the function\r\n",
    "\r\n",
    "$$f(x)=\\begin{cases}-1+\\tan x & \\text{if }x<0 \\\\ 1 & \\text{if }x\\geq 0.\\end{cases}$$\r\n",
    "\r\n",
    "Use SymPy to compute the left- and right-hand limits at $x=0$.  State what kind of discontinuity $f$ has."
   ]
  },
  {
   "cell_type": "code",
   "execution_count": null,
   "metadata": {
    "colab": {
     "base_uri": "https://localhost:8080/",
     "height": 68
    },
    "id": "KosKfQIAkS1F",
    "outputId": "81b39f19-9328-4371-eea5-d932bef2585c"
   },
   "outputs": [
    {
     "data": {
      "text/latex": [
       "$\\displaystyle \\begin{cases} \\tan{\\left(x \\right)} - 1 & \\text{for}\\: x < 0 \\\\1 & \\text{otherwise} \\end{cases}$"
      ],
      "text/plain": [
       "⎧tan(x) - 1  for x < 0\n",
       "⎨                     \n",
       "⎩    1       otherwise"
      ]
     },
     "execution_count": 21,
     "metadata": {
      "tags": []
     },
     "output_type": "execute_result"
    }
   ],
   "source": [
    "f = Piecewise( (-1+tan(x),x<0), (1,x>=0) )\r\n",
    "f"
   ]
  },
  {
   "cell_type": "code",
   "execution_count": null,
   "metadata": {
    "colab": {
     "base_uri": "https://localhost:8080/",
     "height": 297
    },
    "id": "_f3Z63QJ3bKT",
    "outputId": "dfb11b1b-7528-4b9e-d138-67a210cacb79"
   },
   "outputs": [
    {
     "data": {
      "image/png": "[encoded data removed]",
      "text/plain": [
       "<Figure size 432x288 with 1 Axes>"
      ]
     },
     "metadata": {
      "needs_background": "light",
      "tags": []
     },
     "output_type": "display_data"
    }
   ],
   "source": [
    "p = plot( f, ylim=(-10,10) )"
   ]
  },
  {
   "cell_type": "code",
   "execution_count": null,
   "metadata": {
    "colab": {
     "base_uri": "https://localhost:8080/",
     "height": 37
    },
    "id": "SLZ29UCN3hvL",
    "outputId": "21558ec5-2cfe-491c-b220-9604e249263c"
   },
   "outputs": [
    {
     "data": {
      "text/latex": [
       "$\\displaystyle -1$"
      ],
      "text/plain": [
       "-1"
      ]
     },
     "execution_count": 26,
     "metadata": {
      "tags": []
     },
     "output_type": "execute_result"
    }
   ],
   "source": [
    "# For some reason, the following gives an error:\r\n",
    "# limit( f, x, 0, \"-\" )\r\n",
    "# So instead we can just make things simpler...\r\n",
    "# To the left of 0, we know that f is just -1+tan(x).\r\n",
    "limit( -1+tan(x), x, 0, \"-\" )"
   ]
  },
  {
   "cell_type": "code",
   "execution_count": null,
   "metadata": {
    "colab": {
     "base_uri": "https://localhost:8080/",
     "height": 37
    },
    "id": "-sFsvuw83so8",
    "outputId": "1304fa16-5687-4e9d-a1f5-18e281366cc7"
   },
   "outputs": [
    {
     "data": {
      "text/latex": [
       "$\\displaystyle 1$"
      ],
      "text/plain": [
       "1"
      ]
     },
     "execution_count": 27,
     "metadata": {
      "tags": []
     },
     "output_type": "execute_result"
    }
   ],
   "source": [
    "# And to the right of 0, f is just 1.\r\n",
    "limit( 1, x, 0, \"+\" )"
   ]
  },
  {
   "cell_type": "markdown",
   "metadata": {
    "id": "t8aXkaBOkUCF"
   },
   "source": [
    "So $f$ has a jump discontinuity."
   ]
  },
  {
   "cell_type": "markdown",
   "metadata": {
    "id": "9MCmxnCfkVsF"
   },
   "source": [
    "## Exercise 8\r\n",
    "\r\n",
    "Find a function and an $x$ value for which one of the one-sided limits exists, but the other does not.  Plot your function using SymPy, and include the code and plot below."
   ]
  },
  {
   "cell_type": "code",
   "execution_count": null,
   "metadata": {
    "colab": {
     "base_uri": "https://localhost:8080/",
     "height": 68
    },
    "id": "5o3nHqJRke_e",
    "outputId": "625fc5cc-9407-4706-d352-f0336a0d94b2"
   },
   "outputs": [
    {
     "data": {
      "text/latex": [
       "$\\displaystyle \\begin{cases} 15 & \\text{for}\\: x \\leq 0 \\\\\\frac{1}{x} & \\text{otherwise} \\end{cases}$"
      ],
      "text/plain": [
       "⎧15  for x ≤ 0\n",
       "⎪             \n",
       "⎨1            \n",
       "⎪─   otherwise\n",
       "⎩x            "
      ]
     },
     "execution_count": 28,
     "metadata": {
      "tags": []
     },
     "output_type": "execute_result"
    }
   ],
   "source": [
    "# There are many possible answers here.\r\n",
    "# One of them is the third function in Exercise 9, below.\r\n",
    "# In code, it would be:\r\n",
    "f = Piecewise( (15,x<=0), (1/x,x>0) )\r\n",
    "f"
   ]
  },
  {
   "cell_type": "code",
   "execution_count": null,
   "metadata": {
    "colab": {
     "base_uri": "https://localhost:8080/",
     "height": 296
    },
    "id": "j71BbpSz4eCr",
    "outputId": "95bc186b-a2f3-4f70-d541-3b7ca7e7b129"
   },
   "outputs": [
    {
     "data": {
      "image/png": "[encoded data removed]",
      "text/plain": [
       "<Figure size 432x288 with 1 Axes>"
      ]
     },
     "metadata": {
      "needs_background": "light",
      "tags": []
     },
     "output_type": "display_data"
    }
   ],
   "source": [
    "p = plot( f, ylim=(-1,20) )"
   ]
  },
  {
   "cell_type": "markdown",
   "metadata": {
    "id": "b2joPhh-klVt"
   },
   "source": [
    "## Exercise 9\r\n",
    "\r\n",
    "Show the steps of evaluating each of the following limits algebraically when possible, and using other means when algebra is not possible.  To submit this type of by-hand calculation, just write it on paper, take a photo, send it to your computer, and attach it with the \"insert image\" button in the toolbar above.\r\n",
    "\r\n",
    " * $\\displaystyle\\lim_{x\\to\\frac{1}{2}}\\frac{\\sin x+\\cos x}{\\ln x}$\r\n",
    " * $\\displaystyle\\lim_{x\\to1}(\\ln(x^2-1)-\\ln(x-1))$\r\n",
    " * If $\\displaystyle f(x)=\\begin{cases} 15 & \\text{if }x\\leq0 \\\\ \\frac{1}{x} & \\text{if }x>0,\\end{cases}$ then what is $\\displaystyle\\lim_{x\\to0^+}f(x)$?"
   ]
  },
  {
   "cell_type": "markdown",
   "metadata": {
    "id": "BnVoxLFilC0l"
   },
   "source": [
    "$$\r\n",
    "\\begin{align}\r\n",
    "\\lim_{x\\to\\frac12}\\frac{\\sin x+\\cos x}{\\ln x}\r\n",
    "&=\\frac{\\lim_{x\\to\\frac12}(\\sin x+\\cos x)}{\\lim_{x\\to\\frac12}\\ln x} \\\\\r\n",
    "&=\\frac{\\lim_{x\\to\\frac12}\\sin x+\\lim_{x\\to\\frac12}\\cos x}{\\lim_{x\\to\\frac12}\\ln x} \\\\\r\n",
    "&=\\frac{\\sin\\frac12+\\cos\\frac12}{\\ln\\frac12}\r\n",
    "\\end{align}\r\n",
    "$$\r\n",
    "We can find out a decimal approximation as follows..."
   ]
  },
  {
   "cell_type": "code",
   "execution_count": null,
   "metadata": {
    "colab": {
     "base_uri": "https://localhost:8080/",
     "height": 37
    },
    "id": "np6xo7cD5ABg",
    "outputId": "2814c54b-9a71-4813-a364-a2fa3ad022ab"
   },
   "outputs": [
    {
     "data": {
      "text/latex": [
       "$\\displaystyle -1.95774885702968$"
      ],
      "text/plain": [
       "-1.95774885702968"
      ]
     },
     "execution_count": 33,
     "metadata": {
      "tags": []
     },
     "output_type": "execute_result"
    }
   ],
   "source": [
    "N( (sin(1/2)+cos(1/2))/(log(1/2)) )"
   ]
  },
  {
   "cell_type": "markdown",
   "metadata": {
    "id": "Hn_p1tz75HnE"
   },
   "source": [
    "$$\r\n",
    "\\begin{align}\r\n",
    "\\lim_{x\\to1}(\\ln(x^2-1)-\\ln(x-1))\r\n",
    "&=\\lim_{x\\to1}\\ln\\frac{x^2-1}{x-1} \\\\\r\n",
    "&=\\lim_{x\\to1}\\ln\\frac{(x-1)(x+1)}{x-1} \\\\\r\n",
    "&=\\lim_{x\\to1}\\ln(x+1) = \\ln(1+1)=\\ln2\r\n",
    "\\end{align}\r\n",
    "$$\r\n",
    "And a decimal approximation..."
   ]
  },
  {
   "cell_type": "code",
   "execution_count": null,
   "metadata": {
    "colab": {
     "base_uri": "https://localhost:8080/",
     "height": 37
    },
    "id": "MUoYuI7p5Fq8",
    "outputId": "16609cf2-43b6-4a9a-9469-3e7a755b587b"
   },
   "outputs": [
    {
     "data": {
      "text/latex": [
       "$\\displaystyle 0.693147180559945$"
      ],
      "text/plain": [
       "0.693147180559945"
      ]
     },
     "execution_count": 34,
     "metadata": {
      "tags": []
     },
     "output_type": "execute_result"
    }
   ],
   "source": [
    "N( log(2) )"
   ]
  },
  {
   "cell_type": "markdown",
   "metadata": {
    "id": "RMTCvnpo5bp7"
   },
   "source": [
    "The limit of $f(x)$ as $x$ approaches 0 from the right will be the limit of $\\frac1x$ as $x$ approaches 0 from the right, because $f(x)=\\frac1x$ when $x>0$.  But that function has no limit as $x$ approaches 0 from the right; it diverges there.  (Consider $\\frac11$, $\\frac1{0.1}$, $\\frac1{0.001}$, etc.)  So the answer is that the limit does not exist; the function is unbounded above on the right of 0."
   ]
  }
 ],
 "metadata": {
  "colab": {
   "name": "Solutions to GR526 Homework from Day 2.ipynb",
   "provenance": []
  },
  "kernelspec": {
   "display_name": "Python 3",
   "language": "python",
   "name": "python3"
  },
  "language_info": {
   "codemirror_mode": {
    "name": "ipython",
    "version": 3
   },
   "file_extension": ".py",
   "mimetype": "text/x-python",
   "name": "python",
   "nbconvert_exporter": "python",
   "pygments_lexer": "ipython3",
   "version": "3.8.5"
  }
 },
 "nbformat": 4,
 "nbformat_minor": 4
}
